{
 "cells": [
  {
   "cell_type": "markdown",
   "metadata": {},
   "source": [
    "# Demonstration of metaweb embedding using RDPG"
   ],
   "id": "788dee6b-0d1c-4ca1-a598-51f950157e8d"
  },
  {
   "cell_type": "markdown",
   "metadata": {},
   "source": [],
   "id": "cell-1"
  },
  {
   "cell_type": "code",
   "execution_count": null,
   "metadata": {},
   "outputs": [],
   "source": [
    "using EcologicalNetworks\n",
    "using CairoMakie\n",
    "using LinearAlgebra\n",
    "import CSV\n",
    "using DataFrames\n",
    "using DataFramesMeta\n",
    "CairoMakie.activate!(; px_per_unit = 2)"
   ],
   "id": "cell-2"
  },
  {
   "cell_type": "markdown",
   "metadata": {},
   "source": [
    "The first step is to load a series of bipartite quantitative networks between hosts and parasites, coming from the Hadfield et al. paper on host-parasite phylogenetic structure."
   ],
   "id": "cell-3"
  },
  {
   "cell_type": "code",
   "execution_count": null,
   "metadata": {},
   "outputs": [],
   "source": [
    "ids = getfield.(filter(n -> contains(\"Hadfield\")(n.Reference), web_of_life()), :ID)"
   ],
   "id": "cell-4"
  },
  {
   "cell_type": "markdown",
   "metadata": {},
   "source": [
    "We convert these networks to binary bipartite networks, in order to make the metaweb aggregation easier."
   ],
   "id": "cell-5"
  },
  {
   "cell_type": "code",
   "execution_count": null,
   "metadata": {},
   "outputs": [],
   "source": [
    "N = [convert(BipartiteNetwork, web_of_life(n)) for n in ids]"
   ],
   "id": "cell-6"
  },
  {
   "cell_type": "markdown",
   "metadata": {},
   "source": [
    "Transforming the array of networks into a metaweb is done through the union operation:"
   ],
   "id": "cell-7"
  },
  {
   "cell_type": "code",
   "execution_count": null,
   "metadata": {},
   "outputs": [],
   "source": [
    "M = reduce(∪, N)"
   ],
   "id": "cell-8"
  },
  {
   "cell_type": "markdown",
   "metadata": {},
   "source": [
    "In order to identify the pairs of species that have never been observed together, we use the following loop to create a co-occurence matrix:"
   ],
   "id": "cell-9"
  },
  {
   "cell_type": "code",
   "execution_count": null,
   "metadata": {},
   "outputs": [],
   "source": [
    "C = zeros(Int64, size(M))\n",
    "for n in N\n",
    "    i = indexin(species(n; dims = 1), species(M; dims = 1))\n",
    "    j = indexin(species(n; dims = 2), species(M; dims = 2))\n",
    "    C[i, j] .+= 1\n",
    "end"
   ],
   "id": "cell-10"
  },
  {
   "cell_type": "markdown",
   "metadata": {},
   "source": [
    "Before moving forward with the results, we will setup the multi-panel figure used in main text:"
   ],
   "id": "cell-11"
  },
  {
   "cell_type": "code",
   "execution_count": null,
   "metadata": {},
   "outputs": [],
   "source": [
    "figure1 = Figure(; resolution = (950, 800))\n",
    "figure1a = Axis(\n",
    "    figure1[1, 1];\n",
    "    xlabel = \"Rank\",\n",
    "    ylabel = \"L2 loss\",\n",
    "    title = \"A\",\n",
    "    titlealign = :left,\n",
    ")\n",
    "figure1b = Axis(\n",
    "    figure1[1, 2];\n",
    "    xlabel = \"Rank\",\n",
    "    ylabel = \"Variance explained\",\n",
    "    title = \"B\",\n",
    "    titlealign = :left,\n",
    ")\n",
    "figure1c = Axis(\n",
    "    figure1[2, 1];\n",
    "    xlabel = \"Dimension 1\",\n",
    "    ylabel = \"Dimension 2\",\n",
    "    title = \"C\",\n",
    "    titlealign = :left,\n",
    ")\n",
    "figure1d = Axis(\n",
    "    figure1[2, 2];\n",
    "    xlabel = \"Predicted weight\",\n",
    "    ylabel = \"Density\",\n",
    "    title = \"D\",\n",
    "    titlealign = :left,\n",
    ")\n",
    "current_figure()"
   ],
   "id": "cell-12"
  },
  {
   "cell_type": "markdown",
   "metadata": {},
   "source": [
    "The first thing we want to do is measure the L2 loss (the sum of squared errors) as a function of the rank. The rank of the metaweb is at most the number of species on its least species-rich side:"
   ],
   "id": "cell-13"
  },
  {
   "cell_type": "code",
   "execution_count": null,
   "metadata": {},
   "outputs": [],
   "source": [
    "rank(adjacency(M))"
   ],
   "id": "cell-14"
  },
  {
   "cell_type": "markdown",
   "metadata": {},
   "source": [
    "The following list comprehension will perform the RDPG embedding for each rank between 1 and the rank of the metaweb, then multiply the left/right subspaces together to get an approximated network, and report the per-interaction averaged L2 error:"
   ],
   "id": "cell-15"
  },
  {
   "cell_type": "code",
   "execution_count": null,
   "metadata": {},
   "outputs": [],
   "source": [
    "rnk = collect(1:rank(adjacency(M)))\n",
    "L2 = [sum((adjacency(M) - prod(rdpg(M, r))) .^ 2) ./ prod(size(M)) for r in rnk]"
   ],
   "id": "cell-16"
  },
  {
   "cell_type": "markdown",
   "metadata": {},
   "source": [
    "We add this to the first panel of the figure:"
   ],
   "id": "cell-17"
  },
  {
   "cell_type": "code",
   "execution_count": null,
   "metadata": {},
   "outputs": [],
   "source": [
    "lines!(figure1a, rnk, L2; color = :black)\n",
    "current_figure()"
   ],
   "id": "cell-18"
  },
  {
   "cell_type": "markdown",
   "metadata": {},
   "source": [
    "In order to identify the point of inflexion at which to perform the embedding, we could calculate the second order derivate of the loss function w.r.t. rank, using the approximation provided by the finite differences method, for which there are closed form solutions for the first (forward difference), last (backward difference), and any (central difference point). This can be done on the singular values of the SVD yielding the RDPG used for the embedding:"
   ],
   "id": "cell-19"
  },
  {
   "cell_type": "code",
   "execution_count": null,
   "metadata": {},
   "outputs": [],
   "source": [
    "singularvalues = svd(adjacency(M)).S\n",
    "lines!(\n",
    "    figure1b,\n",
    "    rnk,\n",
    "    cumsum(singularvalues) ./ sum(singularvalues); color = :black,\n",
    ")\n",
    "current_figure()"
   ],
   "id": "cell-20"
  },
  {
   "cell_type": "markdown",
   "metadata": {},
   "source": [
    "The finite differences methods to get the inflexion points proper is simply given by:"
   ],
   "id": "cell-21"
  },
  {
   "cell_type": "code",
   "execution_count": null,
   "metadata": {},
   "outputs": [],
   "source": [
    "sv = copy(singularvalues)\n",
    "diff = zeros(size(L2))\n",
    "for i in axes(diff, 1)\n",
    "    if i == 1\n",
    "        diff[i] = sv[i + 2] - 2sv[i + 1] + sv[i]\n",
    "    elseif i == length(diff)\n",
    "        diff[i] = sv[i] - 2sv[i - 1] + sv[i - 2]\n",
    "    else\n",
    "        diff[i] = sv[i + 1] - 2sv[i] + sv[i - 1]\n",
    "    end\n",
    "end"
   ],
   "id": "cell-22"
  },
  {
   "cell_type": "markdown",
   "metadata": {},
   "source": [
    "In practice, the screeplot of variance explained by each rank is noisy, meaning that the correct inflexion point is not necessarilly obvious from the series of second order derivatives (themselves an approximation due to the finite differences method). Here, we are placing the inflexion point at the value that is closest to 0 (in absolute value) - this is a slightly conservative approach that will keep more dimensions, but provide a better approximation of the network."
   ],
   "id": "cell-23"
  },
  {
   "cell_type": "code",
   "execution_count": null,
   "metadata": {},
   "outputs": [],
   "source": [
    "embedding_rank = last(findmin(abs.(diff)))"
   ],
   "id": "cell-24"
  },
  {
   "cell_type": "markdown",
   "metadata": {},
   "source": [
    "We can add it to the figure:"
   ],
   "id": "cell-25"
  },
  {
   "cell_type": "code",
   "execution_count": null,
   "metadata": {},
   "outputs": [],
   "source": [
    "scatter!(figure1a, [embedding_rank], [L2[embedding_rank]]; color = :black)\n",
    "scatter!(\n",
    "    figure1b,\n",
    "    [embedding_rank],\n",
    "    [(cumsum(singularvalues) ./ sum(singularvalues))[embedding_rank]];\n",
    "    color = :black,\n",
    ")"
   ],
   "id": "cell-26"
  },
  {
   "cell_type": "markdown",
   "metadata": {},
   "source": [
    "In the next steps, we will perform the RDPG embedding at this rank. We can check the L2 loss associated with this representation:"
   ],
   "id": "cell-27"
  },
  {
   "cell_type": "code",
   "execution_count": null,
   "metadata": {},
   "outputs": [],
   "source": [
    "L2[embedding_rank]"
   ],
   "id": "cell-28"
  },
  {
   "cell_type": "markdown",
   "metadata": {},
   "source": [
    "The left/right subspaces are given by the `rdpg` function, which internally performs a t-SVD and then multiply each side by the square root of the eigenvalues:"
   ],
   "id": "cell-29"
  },
  {
   "cell_type": "code",
   "execution_count": null,
   "metadata": {},
   "outputs": [],
   "source": [
    "L, R = rdpg(M, embedding_rank)"
   ],
   "id": "cell-30"
  },
  {
   "cell_type": "markdown",
   "metadata": {},
   "source": [
    "Checking the sizes of the L and R subspaces is important. For example, the size of L is:"
   ],
   "id": "cell-31"
  },
  {
   "cell_type": "code",
   "execution_count": null,
   "metadata": {},
   "outputs": [],
   "source": [
    "size(L)"
   ],
   "id": "cell-32"
  },
  {
   "cell_type": "markdown",
   "metadata": {},
   "source": [
    "The number of rows (parasite richness) and columns (subspaces dimensions) is correct, so we can move on to the next step (doing the same exercise for R will show why the L\\*R multiplication will give back a matrix of the correct dimension). We will approximate the network at the previously identified rank, and call it P:"
   ],
   "id": "cell-33"
  },
  {
   "cell_type": "code",
   "execution_count": null,
   "metadata": {},
   "outputs": [],
   "source": [
    "P = clamp.(L * R, 0., 1.)"
   ],
   "id": "cell-34"
  },
  {
   "cell_type": "markdown",
   "metadata": {},
   "source": [
    "With this matrix, we can start looking at the weight given for (i) positive interactions, (ii) interactions that are never observed but for which the species pair is observed at least once, and (iii) species pairs that are never observed. We simply plot the desntiy for each of these three situations and add it to the figure:"
   ],
   "id": "cell-35"
  },
  {
   "cell_type": "code",
   "execution_count": null,
   "metadata": {},
   "outputs": [],
   "source": [
    "noc = density!(figure1d, P[findall(iszero.(C))])\n",
    "pos = density!(figure1d, P[findall(adjacency(M))])\n",
    "neg = density!(figure1d, P[findall(iszero.(adjacency(M)) .& .~iszero.(C))])\n",
    "axislegend(\n",
    "    figure1d,\n",
    "    [pos, neg, noc],\n",
    "    [\"Interactions\", \"Non-interactions\", \"No co-occurence\"],\n",
    ")"
   ],
   "id": "cell-36"
  },
  {
   "cell_type": "markdown",
   "metadata": {},
   "source": [
    "From this panel, it is rather clear that a lot of interactions without documented co-occurrence have a lower assigned weight, and are therefore less likely to be feasible. Turning this information into a prediction of interaction existence can be carried out as a binary classification exercise using *e.g.* weight thresholding."
   ],
   "id": "cell-37"
  },
  {
   "cell_type": "markdown",
   "metadata": {},
   "source": [
    "Another potentially useful visualisation is to look at the position of each species on the first/second dimension of the relevant subspace."
   ],
   "id": "cell-38"
  },
  {
   "cell_type": "code",
   "execution_count": null,
   "metadata": {},
   "outputs": [],
   "source": [
    "para = scatter!(figure1c, L[:, 1], L[:, 2]; marker = :rect)\n",
    "host = scatter!(figure1c, R'[:, 1], R'[:, 2])\n",
    "axislegend(figure1c, [para, host], [\"Parasites\", \"Hosts\"]; position = :lb)\n",
    "current_figure()"
   ],
   "id": "cell-39"
  },
  {
   "cell_type": "markdown",
   "metadata": {},
   "source": [
    "We finally save a high-dpi version of the first figure to disk:"
   ],
   "id": "cell-40"
  },
  {
   "cell_type": "code",
   "execution_count": null,
   "metadata": {},
   "outputs": [],
   "source": [
    "save(\"figures/illustration-part1.png\", figure1; px_per_unit = 3)"
   ],
   "id": "cell-41"
  },
  {
   "cell_type": "markdown",
   "metadata": {},
   "source": [
    "In the second figure, we will relate the embedding information to taxonomic/ecological information about the species, using hosts as an illustration:"
   ],
   "id": "cell-42"
  },
  {
   "cell_type": "code",
   "execution_count": null,
   "metadata": {},
   "outputs": [],
   "source": [
    "figure2 = Figure(; resolution = (950, 800))\n",
    "figure2a = Axis(\n",
    "    figure2[1, 1];\n",
    "    xlabel = \"Dimension 1 (right-subspace)\",\n",
    "    ylabel = \"Number of parasites\",\n",
    "    title = \"A\",\n",
    "    titlealign = :left,\n",
    ")\n",
    "figure2b = Axis(\n",
    "    figure2[1, 2];\n",
    "    ylabel = \"Dimension 1 (right-subspace)\",\n",
    "    xlabel = \"Body mass (grams)\",\n",
    "    xscale = log10,\n",
    "    title = \"B\",\n",
    "    titlealign = :left,\n",
    ")\n",
    "figure2c = Axis(\n",
    "    figure2[1, 3];\n",
    "    ylabel = \"Number of parasites\",\n",
    "    xlabel = \"Body mass (grams)\",\n",
    "    xscale = log10,\n",
    "    title = \"C\",\n",
    "    titlealign = :left,\n",
    ")\n",
    "figure2d = Axis(\n",
    "    figure2[2, 1:3];\n",
    "    ylabel = \"Dimension 1 (right-subspace)\",\n",
    "    title = \"D\",\n",
    "    titlealign = :left,\n",
    "    xticklabelrotation = π / 4,\n",
    ")\n",
    "current_figure()"
   ],
   "id": "cell-43"
  },
  {
   "cell_type": "markdown",
   "metadata": {},
   "source": [
    "We can now link the position on the first dimension to ecologically relevant information, like *e.g.* the number of parasites."
   ],
   "id": "cell-44"
  },
  {
   "cell_type": "code",
   "execution_count": null,
   "metadata": {},
   "outputs": [],
   "source": [
    "scatter!(figure2a, R[1, :], vec(sum(adjacency(M); dims = 1)); color = :black)\n",
    "current_figure()"
   ],
   "id": "cell-45"
  },
  {
   "cell_type": "markdown",
   "metadata": {},
   "source": [
    "We will now load the PanTHERIA database to get metadata and functional traits on host species:"
   ],
   "id": "cell-46"
  },
  {
   "cell_type": "code",
   "execution_count": null,
   "metadata": {},
   "outputs": [],
   "source": [
    "pantheria = DataFrame(CSV.File(joinpath(@__DIR__, \"PanTHERIA_1-0_WR05_Aug2008.txt\")))"
   ],
   "id": "cell-47"
  },
  {
   "cell_type": "markdown",
   "metadata": {},
   "source": [
    "We can match the PanTHERIA rows with species names, and extract the columns we will use: species name, family, position on the first dimension, and finally bodymass:"
   ],
   "id": "cell-48"
  },
  {
   "cell_type": "code",
   "execution_count": null,
   "metadata": {},
   "outputs": [],
   "source": [
    "vidx = filter(!isnothing, indexin(species(M; dims = 2), pantheria.MSW05_Binomial))\n",
    "rodents = pantheria[vidx, :]\n",
    "species_index = indexin(rodents.MSW05_Binomial, species(M; dims = 2))\n",
    "rodents.dim1 = R[1, species_index]\n",
    "rodents.prich = [degree(M)[k] for k in rodents.MSW05_Binomial]\n",
    "\n",
    "@select!(\n",
    "    rodents,\n",
    "    :species = :MSW05_Binomial,\n",
    "    :family = :MSW05_Family,\n",
    "    :dimension = :dim1,\n",
    "    :parasites = :prich,\n",
    "    :bodymass = $(Symbol(\"5-1_AdultBodyMass_g\"))\n",
    ")\n",
    "\n",
    "rodents = @orderby(rodents, :family)"
   ],
   "id": "cell-49"
  },
  {
   "cell_type": "markdown",
   "metadata": {},
   "source": [
    "We can plot the positions on the first dimension by taxonomic family (outliers do not appear on the boxplots):"
   ],
   "id": "cell-50"
  },
  {
   "cell_type": "code",
   "execution_count": null,
   "metadata": {},
   "outputs": [],
   "source": [
    "rainclouds!(\n",
    "    figure2d,\n",
    "    rodents.family,\n",
    "    rodents.dimension;\n",
    "    plot_boxplots = true,\n",
    "    boxplot_width = 0.22,\n",
    "    boxplot_nudge = 0.25,\n",
    "    strokewidth = 0.0,\n",
    "    clouds = nothing,\n",
    "    datalimits = extrema,\n",
    "    orientation = :vertical,\n",
    "    markersize = 6,\n",
    "    side_nudge = -0.125,\n",
    "    jitter_width = 0.22,\n",
    ")\n",
    "current_figure()"
   ],
   "id": "cell-51"
  },
  {
   "cell_type": "markdown",
   "metadata": {},
   "source": [
    "To examine the relationship with functional traits, we remove the species with no known bodymass:"
   ],
   "id": "cell-52"
  },
  {
   "cell_type": "code",
   "execution_count": null,
   "metadata": {},
   "outputs": [],
   "source": [
    "@subset!(rodents, :bodymass .>= 0.0)"
   ],
   "id": "cell-53"
  },
  {
   "cell_type": "markdown",
   "metadata": {},
   "source": [
    "And we can finally plot this as the last panel of the figure:"
   ],
   "id": "cell-54"
  },
  {
   "cell_type": "code",
   "execution_count": null,
   "metadata": {},
   "outputs": [],
   "source": [
    "scatter!(\n",
    "    figure2b,\n",
    "    rodents.bodymass,\n",
    "    rodents.dimension;\n",
    "    color = :black,\n",
    ")\n",
    "current_figure()"
   ],
   "id": "cell-55"
  },
  {
   "cell_type": "code",
   "execution_count": null,
   "metadata": {},
   "outputs": [],
   "source": [
    "scatter!(\n",
    "    figure2c,\n",
    "    rodents.bodymass,\n",
    "    rodents.parasites;\n",
    "    color = :black,\n",
    ")\n",
    "current_figure()"
   ],
   "id": "cell-56"
  },
  {
   "cell_type": "markdown",
   "metadata": {},
   "source": [
    "We save the figure to disk in the same way as before:"
   ],
   "id": "cell-57"
  },
  {
   "cell_type": "code",
   "execution_count": null,
   "metadata": {},
   "outputs": [],
   "source": [
    "save(\"figures/illustration-part2.png\", figure2; px_per_unit = 3)"
   ],
   "id": "cell-58"
  },
  {
   "cell_type": "markdown",
   "metadata": {},
   "source": [
    "Finally, we compile this document to a notebook, which constitutes the supplementary material of the manuscript. Note that the lines to compile the script into a notebook are not visible in the notebook distributed as part of the Supp. Mat. of the article."
   ],
   "id": "cell-59"
  },
  {
   "cell_type": "code",
   "execution_count": null,
   "metadata": {},
   "outputs": [],
   "source": [
    "Literate.notebook(\n",
    "    @__FILE__,\n",
    "    pwd();\n",
    "    config = Dict(\"execute\" => false, \"name\" => \"SupplementaryMaterial\"),"
   ],
   "id": "cell-60"
  },
  {
   "cell_type": "markdown",
   "metadata": {},
   "source": [
    "------------------------------------------------------------------------\n",
    "\n",
    "*This notebook was generated using [Literate.jl](https://github.com/fredrikekre/Literate.jl).*"
   ],
   "id": "cell-61"
  }
 ],
 "nbformat": 4,
 "nbformat_minor": 5,
 "metadata": {}
}
