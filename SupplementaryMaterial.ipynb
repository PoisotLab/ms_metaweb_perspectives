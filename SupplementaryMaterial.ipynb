{
 "cells": [
  {
   "cell_type": "markdown",
   "source": [
    "# Demonstration of metaweb embedding using RDPG"
   ],
   "metadata": {}
  },
  {
   "outputs": [],
   "cell_type": "code",
   "source": [
    "using EcologicalNetworks\n",
    "using CairoMakie\n",
    "using LinearAlgebra"
   ],
   "metadata": {},
   "execution_count": null
  },
  {
   "cell_type": "markdown",
   "source": [
    "The first step is to load a series of bipartite quantitative networks between\n",
    "hosts and parasites, coming from the Hadfield et al. paper on host-parasite\n",
    "phylogenetic structure."
   ],
   "metadata": {}
  },
  {
   "outputs": [],
   "cell_type": "code",
   "source": [
    "ids = getfield.(filter(n -> contains(\"Hadfield\")(n.Reference), web_of_life()), :ID)"
   ],
   "metadata": {},
   "execution_count": null
  },
  {
   "cell_type": "markdown",
   "source": [
    "We convert these networks to binary bipartite networks, in order to make the\n",
    "metaweb aggregation easier."
   ],
   "metadata": {}
  },
  {
   "outputs": [],
   "cell_type": "code",
   "source": [
    "N = [convert(BipartiteNetwork, web_of_life(n)) for n in ids]"
   ],
   "metadata": {},
   "execution_count": null
  },
  {
   "cell_type": "markdown",
   "source": [
    "Transforming the array of networks into a metaweb is done through the union\n",
    "operation:"
   ],
   "metadata": {}
  },
  {
   "outputs": [],
   "cell_type": "code",
   "source": [
    "M = reduce(∪, N)"
   ],
   "metadata": {},
   "execution_count": null
  },
  {
   "cell_type": "markdown",
   "source": [
    "In order to identify the pairs of species that have never been observed\n",
    "together, we use the following loop to create a co-occurence matrix:"
   ],
   "metadata": {}
  },
  {
   "outputs": [],
   "cell_type": "code",
   "source": [
    "C = zeros(Int64, size(M))\n",
    "for n in N\n",
    "    i = indexin(species(n; dims=1), species(M; dims=1))\n",
    "    j = indexin(species(n; dims=2), species(M; dims=2))\n",
    "    C[i, j] .+= 1\n",
    "end"
   ],
   "metadata": {},
   "execution_count": null
  },
  {
   "cell_type": "markdown",
   "source": [
    "Before moving forward with the results, we will setup the multi-panel figure\n",
    "used in main text:"
   ],
   "metadata": {}
  },
  {
   "outputs": [],
   "cell_type": "code",
   "source": [
    "fig = Figure(resolution=(800, 550))\n",
    "ax1 = Axis(fig[1, 1], xlabel=\"Rank\", ylabel=\" \", title=\"A\", titlealign=:left)\n",
    "ax2 = Axis(fig[1, 2], xlabel=\"Dimension 1\", ylabel=\"Dimension 2\", title=\"B\", titlealign=:left)\n",
    "ax3 = Axis(fig[2, 1], xlabel=\"Predicted weight\", ylabel=\"Density\", title=\"C\", titlealign=:left)\n",
    "ax4 = Axis(fig[2, 2], xlabel=\"Dimension 1 (left-subspace)\", ylabel=\"Number of hosts\", title=\"D\", titlealign=:left)\n",
    "current_figure()"
   ],
   "metadata": {},
   "execution_count": null
  },
  {
   "cell_type": "markdown",
   "source": [
    "The first thing we want to do is measure the L2 loss (the sum of squared\n",
    "errors) as a function of the rank.  The rank of the metaweb is at most the\n",
    "number of species on its least species-rich side:"
   ],
   "metadata": {}
  },
  {
   "outputs": [],
   "cell_type": "code",
   "source": [
    "rank(adjacency(M))"
   ],
   "metadata": {},
   "execution_count": null
  },
  {
   "cell_type": "markdown",
   "source": [
    "The following list comprehension will perform the RDPG embedding for each rank\n",
    "between 1 and the rank of the metaweb, then multiply the left/right subspaces\n",
    "together to get an approximated network, and report the per-interaction\n",
    "averaged L2 error:"
   ],
   "metadata": {}
  },
  {
   "outputs": [],
   "cell_type": "code",
   "source": [
    "rnk = collect(1:rank(adjacency(M)))\n",
    "L2 = [sum((adjacency(M) - prod(rdpg(M, r))) .^ 2) ./ prod(size(M)) for r in rnk]"
   ],
   "metadata": {},
   "execution_count": null
  },
  {
   "cell_type": "markdown",
   "source": [
    "We add this to the first panel of the figure:"
   ],
   "metadata": {}
  },
  {
   "outputs": [],
   "cell_type": "code",
   "source": [
    "lines!(ax1, rnk, L2; color=:black, label=\"L2 Loss\")\n",
    "current_figure()"
   ],
   "metadata": {},
   "execution_count": null
  },
  {
   "cell_type": "markdown",
   "source": [
    "In order to identify the point of inflexion at which to perform the embedding,\n",
    "we could calculate the second order derivate of the loss function w.r.t. rank,\n",
    "using the approximation provided by the finite differences method, for which\n",
    "there are closed form solutions for the first (forward difference), last\n",
    "(backward difference), and any (central difference point). This can be done on\n",
    "the singular values of the SVD yielding the RDPG used for the embedding:"
   ],
   "metadata": {}
  },
  {
   "outputs": [],
   "cell_type": "code",
   "source": [
    "singularvalues = svd(adjacency(M)).S\n",
    "lines!(ax1, rnk, singularvalues ./ sum(singularvalues); color=:red, label=\"Variance explained\")\n",
    "axislegend(ax1)\n",
    "current_figure()"
   ],
   "metadata": {},
   "execution_count": null
  },
  {
   "cell_type": "markdown",
   "source": [
    "The finite differences methods to get the inflexion points proper is simply\n",
    "given by:"
   ],
   "metadata": {}
  },
  {
   "outputs": [],
   "cell_type": "code",
   "source": [
    "sv = copy(singularvalues)\n",
    "diff = zeros(size(L2))\n",
    "for i in axes(diff, 1)\n",
    "    if i == 1\n",
    "        diff[i] = sv[i+2] - 2sv[i+1] + sv[i]\n",
    "    elseif i == length(diff)\n",
    "        diff[i] = sv[i] - 2sv[i-1] + sv[i-2]\n",
    "    else\n",
    "        diff[i] = sv[i+1] - 2sv[i] + sv[i-1]\n",
    "    end\n",
    "end"
   ],
   "metadata": {},
   "execution_count": null
  },
  {
   "cell_type": "markdown",
   "source": [
    "In practice, the screeplot of variance explained by each rank is noisy,\n",
    "meaning that the correct inflexion point is not necessarilly obvious from the\n",
    "series of second order derivatives (themselves an approximation due to the\n",
    "finite differences method). Here, we are placing the inflexion point at the\n",
    "value that is closest to 0 (in absolute value) - this is a slightly\n",
    "conservative approach that will keep more dimensions, but provide a better\n",
    "approximation of the network."
   ],
   "metadata": {}
  },
  {
   "outputs": [],
   "cell_type": "code",
   "source": [
    "embedding_rank = last(findmin(abs.(diff)))"
   ],
   "metadata": {},
   "execution_count": null
  },
  {
   "cell_type": "markdown",
   "source": [
    "In the next steps, we will perform the RDPG embedding at this rank. We can\n",
    "check the L2 loss associated with this representation:"
   ],
   "metadata": {}
  },
  {
   "outputs": [],
   "cell_type": "code",
   "source": [
    "L2[embedding_rank]"
   ],
   "metadata": {},
   "execution_count": null
  },
  {
   "cell_type": "markdown",
   "source": [
    "The left/right subspaces are given by the `rdpg` function, which internally\n",
    "performs a t-SVD and then multiply each side by the square root of the\n",
    "eigenvalues:"
   ],
   "metadata": {}
  },
  {
   "outputs": [],
   "cell_type": "code",
   "source": [
    "L, R = rdpg(M, embedding_rank)"
   ],
   "metadata": {},
   "execution_count": null
  },
  {
   "cell_type": "markdown",
   "source": [
    "Checking the sizes of the L and R subspaces is important. For example, the\n",
    "size of L is:"
   ],
   "metadata": {}
  },
  {
   "outputs": [],
   "cell_type": "code",
   "source": [
    "size(L)"
   ],
   "metadata": {},
   "execution_count": null
  },
  {
   "cell_type": "markdown",
   "source": [
    "The number of rows (parasite richness) and columns (subspaces dimensions) is\n",
    "correct, so we can move on to the next step (doing the same exercise for R\n",
    "will show why the L*R multiplication will give back a matrix of the correct\n",
    "dimension). We will approximate the network at the previously identified rank,\n",
    "and call it P:"
   ],
   "metadata": {}
  },
  {
   "outputs": [],
   "cell_type": "code",
   "source": [
    "P = L * R"
   ],
   "metadata": {},
   "execution_count": null
  },
  {
   "cell_type": "markdown",
   "source": [
    "With this matrix, we can start looking at the weight given for (i) positive\n",
    "interactions, (ii) interactions that are never observed but for which the\n",
    "species pair is observed at least once, and (iii) species pairs that are never\n",
    "observed. We simply plot the desntiy for each of these three situations and\n",
    "add it to the figure:"
   ],
   "metadata": {}
  },
  {
   "outputs": [],
   "cell_type": "code",
   "source": [
    "noc = density!(ax3, P[findall(iszero.(C))])\n",
    "pos = density!(ax3, P[findall(adjacency(M))])\n",
    "neg = density!(ax3, P[findall(iszero.(adjacency(M)) .& .~iszero.(C))])\n",
    "axislegend(ax3, [pos, neg, noc], [\"Interactions\", \"Non-interactions\", \"No co-occurence\"])\n",
    "current_figure()"
   ],
   "metadata": {},
   "execution_count": null
  },
  {
   "cell_type": "markdown",
   "source": [
    "From this panel, it is rather clear that a lot of interactions without\n",
    "documented co-occurrence have a lower assigned weight, and are therefore less\n",
    "likely to be feasible. Turning this information into a prediction of\n",
    "interaction existence can be carried out as a binary classification exercise\n",
    "using *e.g.* weight thresholding."
   ],
   "metadata": {}
  },
  {
   "cell_type": "markdown",
   "source": [
    "Another potentially useful visualisation is to look at the position of each\n",
    "species on the first/second dimension of the relevant subspace."
   ],
   "metadata": {}
  },
  {
   "outputs": [],
   "cell_type": "code",
   "source": [
    "para = scatter!(ax2, L[:, 1], L[:, 2]; marker=:rect)\n",
    "host = scatter!(ax2, R'[:, 1], R'[:, 2])\n",
    "axislegend(ax2, [para, host], [\"Parasites\", \"Hosts\"], position=:lb)\n",
    "current_figure()"
   ],
   "metadata": {},
   "execution_count": null
  },
  {
   "cell_type": "markdown",
   "source": [
    "Finally, we can attempt to link the position on the first dimension to\n",
    "ecologically relevant information, like *e.g.* the number of hosts:"
   ],
   "metadata": {}
  },
  {
   "outputs": [],
   "cell_type": "code",
   "source": [
    "scatter!(ax4, L[:, 1], vec(sum(adjacency(M); dims=2)); color=:black)\n",
    "current_figure()"
   ],
   "metadata": {},
   "execution_count": null
  },
  {
   "cell_type": "markdown",
   "source": [
    "This last line is saving the figure, which is used in main text."
   ],
   "metadata": {}
  },
  {
   "outputs": [],
   "cell_type": "code",
   "source": [
    "save(\"figures/illustration.png\", fig, px_per_unit=2)"
   ],
   "metadata": {},
   "execution_count": null
  },
  {
   "cell_type": "markdown",
   "source": [
    "Finally, we compile this document to a notebook, which constitutes the\n",
    "supplementary material of the manuscript. Note that the lines to compile the\n",
    "script into a notebook are not visible in the notebook distributed as part of\n",
    "the Supp. Mat. of the article."
   ],
   "metadata": {}
  },
  {
   "cell_type": "markdown",
   "source": [
    "---\n",
    "\n",
    "*This notebook was generated using [Literate.jl](https://github.com/fredrikekre/Literate.jl).*"
   ],
   "metadata": {}
  }
 ],
 "nbformat_minor": 3,
 "metadata": {
  "language_info": {
   "file_extension": ".jl",
   "mimetype": "application/julia",
   "name": "julia",
   "version": "1.8.1"
  },
  "kernelspec": {
   "name": "julia-1.8",
   "display_name": "Julia 1.8.1",
   "language": "julia"
  }
 },
 "nbformat": 4
}
